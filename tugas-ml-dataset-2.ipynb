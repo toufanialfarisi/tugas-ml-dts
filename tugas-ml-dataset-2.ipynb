{
 "cells": [
  {
   "cell_type": "markdown",
   "metadata": {},
   "source": [
    "# CLUSTERING - KMEANS"
   ]
  },
  {
   "cell_type": "markdown",
   "metadata": {},
   "source": [
    "<table>\n",
    "<tr>\n",
    "    <td>Nama</td>\n",
    "    <td> : </td>\n",
    "    <td><strong>Toufani Rizal Alfarisi</strong></td>\n",
    "</tr>\n",
    "<tr>\n",
    "    <td>dataset</td>\n",
    "    <td> : </td>\n",
    "    <td><strong>Adult Data Set </strong></td>\n",
    "</tr>\n",
    "<tr>\n",
    "    <td>Url</td>\n",
    "    <td> : </td>\n",
    "    <td><strong><a> https://archive.ics.uci.edu/ml/datasets/Adult </a></strong></td>\n",
    "</tr>\n",
    "<tr>\n",
    "    <td>Algoritma</td>\n",
    "    <td> : </td>\n",
    "    <td><strong>CLUSTERING - KMEANS</strong></td>\n",
    "</tr>\n",
    "</table>"
   ]
  },
  {
   "cell_type": "code",
   "execution_count": 77,
   "metadata": {},
   "outputs": [],
   "source": [
    "from sklearn.datasets import load_iris\n",
    "from sklearn.model_selection import train_test_split\n",
    "from sklearn.metrics import classification_report\n",
    "from sklearn.preprocessing import LabelEncoder, StandardScaler, MinMaxScaler\n",
    "from sklearn.cluster import KMeans\n",
    "\n",
    "import pandas as pd\n",
    "import numpy as np \n",
    "import matplotlib.pyplot as plt "
   ]
  },
  {
   "cell_type": "code",
   "execution_count": 78,
   "metadata": {},
   "outputs": [],
   "source": [
    "import warnings\n",
    "from sklearn.exceptions import DataConversionWarning\n",
    "warnings.filterwarnings(action='ignore', category=DataConversionWarning)"
   ]
  },
  {
   "cell_type": "code",
   "execution_count": 79,
   "metadata": {},
   "outputs": [],
   "source": [
    "# lihat deskripsi / meta datasetnya\n",
    "with open(\"adult.names\") as r:\n",
    "    meta_dataset = r.read()"
   ]
  },
  {
   "cell_type": "code",
   "execution_count": 80,
   "metadata": {},
   "outputs": [],
   "source": [
    "data = pd.read_csv(\"adult.data\")"
   ]
  },
  {
   "cell_type": "code",
   "execution_count": 81,
   "metadata": {},
   "outputs": [
    {
     "name": "stdout",
     "output_type": "stream",
     "text": [
      "feature 39 terhapus\n",
      "feature  77516 terhapus\n",
      "feature  13 terhapus\n",
      "feature  2174 terhapus\n",
      "feature  0 terhapus\n",
      "feature  40 terhapus\n",
      "done\n"
     ]
    }
   ],
   "source": [
    "col_del = [\"39\", \" 77516\", \" 13\", \" 2174\", \" 0\", \" 40\"]\n",
    "for col in data.columns:\n",
    "    if col in col_del:\n",
    "        data.drop(labels=[col], axis=1, inplace=True)\n",
    "        print(f\"feature {col} terhapus\")\n",
    "print(\"done\")"
   ]
  },
  {
   "cell_type": "code",
   "execution_count": 82,
   "metadata": {},
   "outputs": [
    {
     "name": "stdout",
     "output_type": "stream",
     "text": [
      "done\n"
     ]
    }
   ],
   "source": [
    "'''\n",
    "setiap nama kolom terlihat memiliki space sebanyak 1,\n",
    "maka harus kita unindent kan\n",
    "'''\n",
    "cols = list(data.columns)\n",
    "for idx in range(len(cols)):\n",
    "    cols[idx] = cols[idx].split(\" \")[-1]\n",
    "cols[-1] = \"target\"\n",
    "print(\"done\")"
   ]
  },
  {
   "cell_type": "code",
   "execution_count": 83,
   "metadata": {},
   "outputs": [],
   "source": [
    "# ganti nama kolom lama dengan yang baru \n",
    "data.columns = cols"
   ]
  },
  {
   "cell_type": "code",
   "execution_count": 84,
   "metadata": {},
   "outputs": [
    {
     "name": "stdout",
     "output_type": "stream",
     "text": [
      "done\n"
     ]
    }
   ],
   "source": [
    "clean_target = []\n",
    "for dt in data.target.values:\n",
    "    storage = dt.split(\" \")[-1]\n",
    "    clean_target.append(storage)\n",
    "print(\"done\")"
   ]
  },
  {
   "cell_type": "code",
   "execution_count": 85,
   "metadata": {},
   "outputs": [
    {
     "data": {
      "text/plain": [
       "State-gov        0\n",
       "Bachelors        0\n",
       "Never-married    0\n",
       "Adm-clerical     0\n",
       "Not-in-family    0\n",
       "White            0\n",
       "Male             0\n",
       "United-States    0\n",
       "target           0\n",
       "dtype: int64"
      ]
     },
     "execution_count": 85,
     "metadata": {},
     "output_type": "execute_result"
    }
   ],
   "source": [
    "# check apakah ada nan value\n",
    "data.isna().sum()"
   ]
  },
  {
   "cell_type": "code",
   "execution_count": 86,
   "metadata": {},
   "outputs": [],
   "source": [
    "'''\n",
    "karena semua recordnya berjenis kategori,\n",
    "maka perlu diencode menjadi numerik \n",
    "'''\n",
    "le = LabelEncoder()\n",
    "for col in cols:\n",
    "    data[col] = le.fit_transform(data[col])"
   ]
  },
  {
   "cell_type": "code",
   "execution_count": 87,
   "metadata": {},
   "outputs": [],
   "source": [
    "# normalisasi data \n",
    "nor = StandardScaler()\n",
    "for col in cols:\n",
    "    if col == \"target\":\n",
    "        break \n",
    "    else:\n",
    "        data[col] = nor.fit_transform(data[[col]])"
   ]
  },
  {
   "cell_type": "code",
   "execution_count": 88,
   "metadata": {},
   "outputs": [
    {
     "data": {
      "text/html": [
       "<div>\n",
       "<style scoped>\n",
       "    .dataframe tbody tr th:only-of-type {\n",
       "        vertical-align: middle;\n",
       "    }\n",
       "\n",
       "    .dataframe tbody tr th {\n",
       "        vertical-align: top;\n",
       "    }\n",
       "\n",
       "    .dataframe thead th {\n",
       "        text-align: right;\n",
       "    }\n",
       "</style>\n",
       "<table border=\"1\" class=\"dataframe\">\n",
       "  <thead>\n",
       "    <tr style=\"text-align: right;\">\n",
       "      <th></th>\n",
       "      <th>State-gov</th>\n",
       "      <th>Bachelors</th>\n",
       "      <th>Never-married</th>\n",
       "      <th>Adm-clerical</th>\n",
       "      <th>Not-in-family</th>\n",
       "      <th>White</th>\n",
       "      <th>Male</th>\n",
       "      <th>United-States</th>\n",
       "      <th>target</th>\n",
       "    </tr>\n",
       "  </thead>\n",
       "  <tbody>\n",
       "    <tr>\n",
       "      <th>count</th>\n",
       "      <td>3.256000e+04</td>\n",
       "      <td>3.256000e+04</td>\n",
       "      <td>3.256000e+04</td>\n",
       "      <td>3.256000e+04</td>\n",
       "      <td>3.256000e+04</td>\n",
       "      <td>3.256000e+04</td>\n",
       "      <td>3.256000e+04</td>\n",
       "      <td>3.256000e+04</td>\n",
       "      <td>32560.000000</td>\n",
       "    </tr>\n",
       "    <tr>\n",
       "      <th>mean</th>\n",
       "      <td>-1.457747e-16</td>\n",
       "      <td>-1.883287e-16</td>\n",
       "      <td>-3.000603e-17</td>\n",
       "      <td>6.623149e-17</td>\n",
       "      <td>7.856124e-17</td>\n",
       "      <td>7.637898e-17</td>\n",
       "      <td>-4.277223e-17</td>\n",
       "      <td>2.348108e-16</td>\n",
       "      <td>0.240817</td>\n",
       "    </tr>\n",
       "    <tr>\n",
       "      <th>std</th>\n",
       "      <td>1.000015e+00</td>\n",
       "      <td>1.000015e+00</td>\n",
       "      <td>1.000015e+00</td>\n",
       "      <td>1.000015e+00</td>\n",
       "      <td>1.000015e+00</td>\n",
       "      <td>1.000015e+00</td>\n",
       "      <td>1.000015e+00</td>\n",
       "      <td>1.000015e+00</td>\n",
       "      <td>0.427586</td>\n",
       "    </tr>\n",
       "    <tr>\n",
       "      <th>min</th>\n",
       "      <td>-2.657402e+00</td>\n",
       "      <td>-2.660869e+00</td>\n",
       "      <td>-1.734026e+00</td>\n",
       "      <td>-1.554341e+00</td>\n",
       "      <td>-9.001766e-01</td>\n",
       "      <td>-4.318841e+00</td>\n",
       "      <td>-1.422298e+00</td>\n",
       "      <td>-4.693235e+00</td>\n",
       "      <td>0.000000</td>\n",
       "    </tr>\n",
       "    <tr>\n",
       "      <th>25%</th>\n",
       "      <td>9.012148e-02</td>\n",
       "      <td>-3.354427e-01</td>\n",
       "      <td>-4.061830e-01</td>\n",
       "      <td>-8.449108e-01</td>\n",
       "      <td>-9.001766e-01</td>\n",
       "      <td>3.936745e-01</td>\n",
       "      <td>-1.422298e+00</td>\n",
       "      <td>2.915734e-01</td>\n",
       "      <td>0.000000</td>\n",
       "    </tr>\n",
       "    <tr>\n",
       "      <th>50%</th>\n",
       "      <td>9.012148e-02</td>\n",
       "      <td>1.813189e-01</td>\n",
       "      <td>-4.061830e-01</td>\n",
       "      <td>1.009965e-01</td>\n",
       "      <td>-2.778096e-01</td>\n",
       "      <td>3.936745e-01</td>\n",
       "      <td>7.030875e-01</td>\n",
       "      <td>2.915734e-01</td>\n",
       "      <td>0.000000</td>\n",
       "    </tr>\n",
       "    <tr>\n",
       "      <th>75%</th>\n",
       "      <td>9.012148e-02</td>\n",
       "      <td>4.396996e-01</td>\n",
       "      <td>9.216601e-01</td>\n",
       "      <td>8.104270e-01</td>\n",
       "      <td>9.669243e-01</td>\n",
       "      <td>3.936745e-01</td>\n",
       "      <td>7.030875e-01</td>\n",
       "      <td>2.915734e-01</td>\n",
       "      <td>0.000000</td>\n",
       "    </tr>\n",
       "    <tr>\n",
       "      <th>max</th>\n",
       "      <td>2.837645e+00</td>\n",
       "      <td>1.214842e+00</td>\n",
       "      <td>2.249503e+00</td>\n",
       "      <td>1.756334e+00</td>\n",
       "      <td>2.211658e+00</td>\n",
       "      <td>3.936745e-01</td>\n",
       "      <td>7.030875e-01</td>\n",
       "      <td>5.472046e-01</td>\n",
       "      <td>1.000000</td>\n",
       "    </tr>\n",
       "  </tbody>\n",
       "</table>\n",
       "</div>"
      ],
      "text/plain": [
       "          State-gov     Bachelors  Never-married  Adm-clerical  Not-in-family  \\\n",
       "count  3.256000e+04  3.256000e+04   3.256000e+04  3.256000e+04   3.256000e+04   \n",
       "mean  -1.457747e-16 -1.883287e-16  -3.000603e-17  6.623149e-17   7.856124e-17   \n",
       "std    1.000015e+00  1.000015e+00   1.000015e+00  1.000015e+00   1.000015e+00   \n",
       "min   -2.657402e+00 -2.660869e+00  -1.734026e+00 -1.554341e+00  -9.001766e-01   \n",
       "25%    9.012148e-02 -3.354427e-01  -4.061830e-01 -8.449108e-01  -9.001766e-01   \n",
       "50%    9.012148e-02  1.813189e-01  -4.061830e-01  1.009965e-01  -2.778096e-01   \n",
       "75%    9.012148e-02  4.396996e-01   9.216601e-01  8.104270e-01   9.669243e-01   \n",
       "max    2.837645e+00  1.214842e+00   2.249503e+00  1.756334e+00   2.211658e+00   \n",
       "\n",
       "              White          Male  United-States        target  \n",
       "count  3.256000e+04  3.256000e+04   3.256000e+04  32560.000000  \n",
       "mean   7.637898e-17 -4.277223e-17   2.348108e-16      0.240817  \n",
       "std    1.000015e+00  1.000015e+00   1.000015e+00      0.427586  \n",
       "min   -4.318841e+00 -1.422298e+00  -4.693235e+00      0.000000  \n",
       "25%    3.936745e-01 -1.422298e+00   2.915734e-01      0.000000  \n",
       "50%    3.936745e-01  7.030875e-01   2.915734e-01      0.000000  \n",
       "75%    3.936745e-01  7.030875e-01   2.915734e-01      0.000000  \n",
       "max    3.936745e-01  7.030875e-01   5.472046e-01      1.000000  "
      ]
     },
     "execution_count": 88,
     "metadata": {},
     "output_type": "execute_result"
    }
   ],
   "source": [
    "# lihat descripsi statistik\n",
    "data.describe()"
   ]
  },
  {
   "cell_type": "code",
   "execution_count": 90,
   "metadata": {},
   "outputs": [],
   "source": [
    "# siapkan juga variable data untuk algoritma linear regresi\n",
    "data_regresi = data.copy()"
   ]
  },
  {
   "cell_type": "code",
   "execution_count": 57,
   "metadata": {},
   "outputs": [],
   "source": [
    "data.drop(labels=['target'], axis=1, inplace=True)"
   ]
  },
  {
   "cell_type": "code",
   "execution_count": 58,
   "metadata": {},
   "outputs": [
    {
     "data": {
      "text/plain": [
       "KMeans(algorithm='auto', copy_x=True, init='k-means++', max_iter=300,\n",
       "    n_clusters=3, n_init=10, n_jobs=None, precompute_distances='auto',\n",
       "    random_state=None, tol=0.0001, verbose=0)"
      ]
     },
     "execution_count": 58,
     "metadata": {},
     "output_type": "execute_result"
    }
   ],
   "source": [
    "model = KMeans(n_clusters=3)\n",
    "model.fit(data)"
   ]
  },
  {
   "cell_type": "code",
   "execution_count": 59,
   "metadata": {},
   "outputs": [
    {
     "data": {
      "text/plain": [
       "array([[-0.2122629 ,  0.04417254,  0.24889992, -0.16903937,  0.85831165,\n",
       "        -0.17234375, -1.2552238 ,  0.22631131],\n",
       "       [ 0.11400328, -0.01063127, -0.14541329,  0.08688461, -0.47996106,\n",
       "         0.15269497,  0.69984641,  0.22777933],\n",
       "       [ 0.05475363, -0.15100501,  0.06090114,  0.0852314 , -0.01908038,\n",
       "        -0.59672   ,  0.0499202 , -3.78321531]])"
      ]
     },
     "execution_count": 59,
     "metadata": {},
     "output_type": "execute_result"
    }
   ],
   "source": [
    "model.cluster_centers_"
   ]
  },
  {
   "cell_type": "code",
   "execution_count": 61,
   "metadata": {},
   "outputs": [],
   "source": [
    "predict = model.predict(data)\n",
    "data_ = data.copy()"
   ]
  },
  {
   "cell_type": "code",
   "execution_count": 63,
   "metadata": {},
   "outputs": [
    {
     "data": {
      "image/png": "[encoded data removed]",
      "text/plain": [
       "<Figure size 432x288 with 1 Axes>"
      ]
     },
     "metadata": {
      "needs_background": "light"
     },
     "output_type": "display_data"
    }
   ],
   "source": [
    "data = data_.values\n",
    "plt.scatter(data[:, 0], data[:, 1], c=predict, s=50, cmap='viridis')\n",
    "centers = model.cluster_centers_\n",
    "plt.scatter(data[:, 0], data[:, 1], c='blue', s=200, alpha=0.5);"
   ]
  },
  {
   "cell_type": "markdown",
   "metadata": {},
   "source": [
    "# REGRESI - REGRESI LINEAR"
   ]
  },
  {
   "cell_type": "markdown",
   "metadata": {},
   "source": [
    "<table>\n",
    "<tr>\n",
    "    <td>Nama</td>\n",
    "    <td> : </td>\n",
    "    <td><strong>Toufani Rizal Alfarisi</strong></td>\n",
    "</tr>\n",
    "<tr>\n",
    "    <td>dataset</td>\n",
    "    <td> : </td>\n",
    "    <td><strong>Adult Data Set </strong></td>\n",
    "</tr>\n",
    "<tr>\n",
    "    <td>Url</td>\n",
    "    <td> : </td>\n",
    "    <td><strong><a> https://archive.ics.uci.edu/ml/datasets/Adult </a></strong></td>\n",
    "</tr>\n",
    "<tr>\n",
    "    <td>Algoritma</td>\n",
    "    <td> : </td>\n",
    "    <td><strong>REGRESI - REGRESI LINEAR</strong></td>\n",
    "</tr>\n",
    "</table>"
   ]
  },
  {
   "cell_type": "code",
   "execution_count": 101,
   "metadata": {},
   "outputs": [],
   "source": [
    "from sklearn.linear_model import LinearRegression\n",
    "from sklearn.metrics import mean_squared_error\n",
    "from sklearn.model_selection import train_test_split\n",
    "from sklearn import metrics\n",
    "\n",
    "x = data_regresi.iloc[:, :-1]\n",
    "y = data_regresi.iloc[:, 1]\n",
    "x_train, x_test, y_train, y_test = train_test_split(\n",
    "    x, y, \n",
    "    test_size=0.3, \n",
    "    random_state=46,\n",
    ")"
   ]
  },
  {
   "cell_type": "code",
   "execution_count": 102,
   "metadata": {},
   "outputs": [
    {
     "name": "stdout",
     "output_type": "stream",
     "text": [
      "x_train ==>  (22792, 8)\n",
      "y_train ==>  (22792,)\n",
      "x_test ==>  (9768, 8)\n",
      "y_test ==>  (9768,)\n"
     ]
    }
   ],
   "source": [
    "print('x_train ==> ', x_train.shape)\n",
    "print('y_train ==> ', y_train.shape)\n",
    "print('x_test ==> ', x_test.shape)\n",
    "print('y_test ==> ', y_test.shape)"
   ]
  },
  {
   "cell_type": "code",
   "execution_count": 103,
   "metadata": {},
   "outputs": [
    {
     "data": {
      "text/plain": [
       "LinearRegression(copy_X=True, fit_intercept=True, n_jobs=None,\n",
       "         normalize=False)"
      ]
     },
     "execution_count": 103,
     "metadata": {},
     "output_type": "execute_result"
    }
   ],
   "source": [
    "model_reg = LinearRegression()\n",
    "model_reg.fit(x_train, y_train)"
   ]
  },
  {
   "cell_type": "code",
   "execution_count": 117,
   "metadata": {},
   "outputs": [
    {
     "name": "stdout",
     "output_type": "stream",
     "text": [
      "mean-squared-error \n",
      " 1.547107042314471e-27\n",
      "mean-absolute-error \n",
      " 2.93230353775789e-13\n"
     ]
    }
   ],
   "source": [
    "y_pred = model_reg.predict(x_test)\n",
    "mse = metrics.mean_squared_error(y_test, y_pred) * 100\n",
    "mae = metrics.mean_absolute_error(y_test, y_pred) * 100 \n",
    "print(\"mean-squared-error \\n\", mse)\n",
    "print(\"mean-absolute-error \\n\", mae)"
   ]
  },
  {
   "cell_type": "code",
   "execution_count": null,
   "metadata": {},
   "outputs": [],
   "source": []
  }
 ],
 "metadata": {
  "kernelspec": {
   "display_name": "Python [conda env:gpu] *",
   "language": "python",
   "name": "conda-env-gpu-py"
  },
  "language_info": {
   "codemirror_mode": {
    "name": "ipython",
    "version": 3
   },
   "file_extension": ".py",
   "mimetype": "text/x-python",
   "name": "python",
   "nbconvert_exporter": "python",
   "pygments_lexer": "ipython3",
   "version": "3.6.5"
  }
 },
 "nbformat": 4,
 "nbformat_minor": 2
}
