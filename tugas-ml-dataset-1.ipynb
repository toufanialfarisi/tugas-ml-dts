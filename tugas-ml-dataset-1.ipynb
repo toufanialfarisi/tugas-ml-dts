{
 "cells": [
  {
   "cell_type": "markdown",
   "metadata": {},
   "source": [
    "# CLUSTERING - KMEANS"
   ]
  },
  {
   "cell_type": "markdown",
   "metadata": {},
   "source": [
    "<table>\n",
    "<tr>\n",
    "    <td>Nama</td>\n",
    "    <td> : </td>\n",
    "    <td><strong>Toufani Rizal Alfarisi</strong></td>\n",
    "</tr>\n",
    "<tr>\n",
    "    <td>dataset</td>\n",
    "    <td> : </td>\n",
    "    <td><strong> Teaching Assistand Evaluation </strong></td>\n",
    "</tr>\n",
    "<tr>\n",
    "    <td>Url</td>\n",
    "    <td> : </td>\n",
    "    <td><strong><a> https://archive.ics.uci.edu/ml/datasets/Adult </a></strong></td>\n",
    "</tr>\n",
    "<tr>\n",
    "    <td>Algoritma</td>\n",
    "    <td> : </td>\n",
    "    <td><strong>CLUSTERING - KMEANS</strong></td>\n",
    "</tr>\n",
    "</table>"
   ]
  },
  {
   "cell_type": "code",
   "execution_count": 110,
   "metadata": {},
   "outputs": [],
   "source": [
    "from sklearn.datasets import load_iris\n",
    "from sklearn.model_selection import train_test_split\n",
    "from sklearn.metrics import classification_report\n",
    "from sklearn.preprocessing import LabelEncoder, StandardScaler, MinMaxScaler\n",
    "from sklearn.cluster import KMeans\n",
    "\n",
    "import pandas as pd\n",
    "import numpy as np \n",
    "import matplotlib.pyplot as plt "
   ]
  },
  {
   "cell_type": "code",
   "execution_count": 111,
   "metadata": {},
   "outputs": [],
   "source": [
    "import warnings\n",
    "from sklearn.exceptions import DataConversionWarning\n",
    "warnings.filterwarnings(action='ignore', category=DataConversionWarning)"
   ]
  },
  {
   "cell_type": "code",
   "execution_count": 112,
   "metadata": {},
   "outputs": [],
   "source": [
    "# lihat deskripsi / meta datasetnya\n",
    "with open(\"adult.names\") as r:\n",
    "    meta_dataset = r.read()"
   ]
  },
  {
   "cell_type": "code",
   "execution_count": 113,
   "metadata": {},
   "outputs": [
    {
     "data": {
      "text/html": [
       "<div>\n",
       "<style scoped>\n",
       "    .dataframe tbody tr th:only-of-type {\n",
       "        vertical-align: middle;\n",
       "    }\n",
       "\n",
       "    .dataframe tbody tr th {\n",
       "        vertical-align: top;\n",
       "    }\n",
       "\n",
       "    .dataframe thead th {\n",
       "        text-align: right;\n",
       "    }\n",
       "</style>\n",
       "<table border=\"1\" class=\"dataframe\">\n",
       "  <thead>\n",
       "    <tr style=\"text-align: right;\">\n",
       "      <th></th>\n",
       "      <th>1</th>\n",
       "      <th>23</th>\n",
       "      <th>3</th>\n",
       "      <th>1.1</th>\n",
       "      <th>19</th>\n",
       "      <th>3.1</th>\n",
       "    </tr>\n",
       "  </thead>\n",
       "  <tbody>\n",
       "    <tr>\n",
       "      <th>0</th>\n",
       "      <td>2</td>\n",
       "      <td>15</td>\n",
       "      <td>3</td>\n",
       "      <td>1</td>\n",
       "      <td>17</td>\n",
       "      <td>3</td>\n",
       "    </tr>\n",
       "    <tr>\n",
       "      <th>1</th>\n",
       "      <td>1</td>\n",
       "      <td>23</td>\n",
       "      <td>3</td>\n",
       "      <td>2</td>\n",
       "      <td>49</td>\n",
       "      <td>3</td>\n",
       "    </tr>\n",
       "    <tr>\n",
       "      <th>2</th>\n",
       "      <td>1</td>\n",
       "      <td>5</td>\n",
       "      <td>2</td>\n",
       "      <td>2</td>\n",
       "      <td>33</td>\n",
       "      <td>3</td>\n",
       "    </tr>\n",
       "    <tr>\n",
       "      <th>3</th>\n",
       "      <td>2</td>\n",
       "      <td>7</td>\n",
       "      <td>11</td>\n",
       "      <td>2</td>\n",
       "      <td>55</td>\n",
       "      <td>3</td>\n",
       "    </tr>\n",
       "    <tr>\n",
       "      <th>4</th>\n",
       "      <td>2</td>\n",
       "      <td>23</td>\n",
       "      <td>3</td>\n",
       "      <td>1</td>\n",
       "      <td>20</td>\n",
       "      <td>3</td>\n",
       "    </tr>\n",
       "  </tbody>\n",
       "</table>\n",
       "</div>"
      ],
      "text/plain": [
       "   1  23   3  1.1  19  3.1\n",
       "0  2  15   3    1  17    3\n",
       "1  1  23   3    2  49    3\n",
       "2  1   5   2    2  33    3\n",
       "3  2   7  11    2  55    3\n",
       "4  2  23   3    1  20    3"
      ]
     },
     "execution_count": 113,
     "metadata": {},
     "output_type": "execute_result"
    }
   ],
   "source": [
    "# baca datasetnya\n",
    "data = pd.read_csv(\"dataset/tae.data\")\n",
    "data.head()"
   ]
  },
  {
   "cell_type": "code",
   "execution_count": 114,
   "metadata": {},
   "outputs": [
    {
     "data": {
      "text/html": [
       "<div>\n",
       "<style scoped>\n",
       "    .dataframe tbody tr th:only-of-type {\n",
       "        vertical-align: middle;\n",
       "    }\n",
       "\n",
       "    .dataframe tbody tr th {\n",
       "        vertical-align: top;\n",
       "    }\n",
       "\n",
       "    .dataframe thead th {\n",
       "        text-align: right;\n",
       "    }\n",
       "</style>\n",
       "<table border=\"1\" class=\"dataframe\">\n",
       "  <thead>\n",
       "    <tr style=\"text-align: right;\">\n",
       "      <th></th>\n",
       "      <th>fitur_0</th>\n",
       "      <th>fitur_1</th>\n",
       "      <th>fitur_2</th>\n",
       "      <th>fitur_3</th>\n",
       "      <th>fitur_4</th>\n",
       "      <th>fitur_5</th>\n",
       "    </tr>\n",
       "  </thead>\n",
       "  <tbody>\n",
       "    <tr>\n",
       "      <th>0</th>\n",
       "      <td>2</td>\n",
       "      <td>15</td>\n",
       "      <td>3</td>\n",
       "      <td>1</td>\n",
       "      <td>17</td>\n",
       "      <td>3</td>\n",
       "    </tr>\n",
       "    <tr>\n",
       "      <th>1</th>\n",
       "      <td>1</td>\n",
       "      <td>23</td>\n",
       "      <td>3</td>\n",
       "      <td>2</td>\n",
       "      <td>49</td>\n",
       "      <td>3</td>\n",
       "    </tr>\n",
       "    <tr>\n",
       "      <th>2</th>\n",
       "      <td>1</td>\n",
       "      <td>5</td>\n",
       "      <td>2</td>\n",
       "      <td>2</td>\n",
       "      <td>33</td>\n",
       "      <td>3</td>\n",
       "    </tr>\n",
       "    <tr>\n",
       "      <th>3</th>\n",
       "      <td>2</td>\n",
       "      <td>7</td>\n",
       "      <td>11</td>\n",
       "      <td>2</td>\n",
       "      <td>55</td>\n",
       "      <td>3</td>\n",
       "    </tr>\n",
       "    <tr>\n",
       "      <th>4</th>\n",
       "      <td>2</td>\n",
       "      <td>23</td>\n",
       "      <td>3</td>\n",
       "      <td>1</td>\n",
       "      <td>20</td>\n",
       "      <td>3</td>\n",
       "    </tr>\n",
       "  </tbody>\n",
       "</table>\n",
       "</div>"
      ],
      "text/plain": [
       "   fitur_0  fitur_1  fitur_2  fitur_3  fitur_4  fitur_5\n",
       "0        2       15        3        1       17        3\n",
       "1        1       23        3        2       49        3\n",
       "2        1        5        2        2       33        3\n",
       "3        2        7       11        2       55        3\n",
       "4        2       23        3        1       20        3"
      ]
     },
     "execution_count": 114,
     "metadata": {},
     "output_type": "execute_result"
    }
   ],
   "source": [
    "# ganti nama colom nya dengan angka\n",
    "data.columns = [ \"fitur_\"+str(i) for i in range(len(data.columns)) if i != 6]\n",
    "data.head()"
   ]
  },
  {
   "cell_type": "code",
   "execution_count": 115,
   "metadata": {},
   "outputs": [
    {
     "name": "stdout",
     "output_type": "stream",
     "text": [
      "fitur_0 == > \n",
      " [2 1]\n",
      "fitur_1 == > \n",
      " [15 23  5  7  9 10 22 13 18  6 25  2  1  8 14 21 11 16  4 17 20 12 24  3\n",
      " 19]\n",
      "fitur_2 == > \n",
      " [ 3  2 11  5 22  1 21 17 25  7  9 15 13  8 16 19 14  6 12 18 23 26 24 20\n",
      "  4 10]\n",
      "fitur_3 == > \n",
      " [1 2]\n",
      "fitur_4 == > \n",
      " [17 49 33 55 20 19 27 58  9 30 29 39 42 43 10 46 23 31 22 37 13 24 38 28\n",
      " 51 36 21 48 25 11 45 18 14 35 15 32 34 66 12  3  7 54 16 44  5 26]\n",
      "fitur_5 == > \n",
      " [3 2 1]\n"
     ]
    }
   ],
   "source": [
    "# lihat unique data setiap kolom \n",
    "cols = data.columns\n",
    "for col in cols:\n",
    "    print(f\"{col} == > \\n\", data.loc[:, col].unique())"
   ]
  },
  {
   "cell_type": "code",
   "execution_count": 116,
   "metadata": {},
   "outputs": [],
   "source": [
    "# training \n",
    "model_clustering = KMeans(n_clusters=5)\n",
    "model_clustering.fit(data)\n",
    "data_ = data.copy()\n",
    "data_reg = data.copy()\n",
    "\n",
    "# lakkukan predict terhadap data yang sudah dicluster/training\n",
    "y_pred = model_clustering.predict(data)"
   ]
  },
  {
   "cell_type": "code",
   "execution_count": 104,
   "metadata": {},
   "outputs": [
    {
     "data": {
      "text/plain": [
       "<matplotlib.collections.PathCollection at 0x7fe34ac8ea58>"
      ]
     },
     "execution_count": 104,
     "metadata": {},
     "output_type": "execute_result"
    },
    {
     "data": {
      "image/png": "[encoded data removed]",
      "text/plain": [
       "<Figure size 432x288 with 1 Axes>"
      ]
     },
     "metadata": {
      "needs_background": "light"
     },
     "output_type": "display_data"
    }
   ],
   "source": [
    "data_pred = data_.values\n",
    "plt.scatter(data_pred[:, 2], data_pred[:, 1], c=y_pred, s=50, cmap='viridis')\n",
    "centers = model_clustering.cluster_centers_\n",
    "plt.scatter(data_pred[:, 2], data_pred[:, 1], c='g', s=200, alpha=0.5) "
   ]
  },
  {
   "cell_type": "markdown",
   "metadata": {},
   "source": [
    "# REGRESI - REGRESI LINEAR"
   ]
  },
  {
   "cell_type": "markdown",
   "metadata": {},
   "source": [
    "<table>\n",
    "<tr>\n",
    "    <td>Nama</td>\n",
    "    <td> : </td>\n",
    "    <td><strong>Toufani Rizal Alfarisi</strong></td>\n",
    "</tr>\n",
    "<tr>\n",
    "    <td>dataset</td>\n",
    "    <td> : </td>\n",
    "    <td><strong>Teaching Assistand Evaluation </strong></td>\n",
    "</tr>\n",
    "<tr>\n",
    "    <td>Url</td>\n",
    "    <td> : </td>\n",
    "    <td><strong><a> https://archive.ics.uci.edu/ml/datasets/Teaching+Assistant+Evaluation </a></strong></td>\n",
    "</tr>\n",
    "<tr>\n",
    "    <td>Algoritma</td>\n",
    "    <td> : </td>\n",
    "    <td><strong>REGRESI - REGRESI LINEAR</strong></td>\n",
    "</tr>\n",
    "</table>"
   ]
  },
  {
   "cell_type": "code",
   "execution_count": 121,
   "metadata": {},
   "outputs": [],
   "source": [
    "from sklearn.linear_model import LinearRegression\n",
    "from sklearn.metrics import mean_squared_error\n",
    "from sklearn.model_selection import train_test_split\n",
    "from sklearn import metrics\n",
    "from sklearn.preprocessing import StandardScaler"
   ]
  },
  {
   "cell_type": "code",
   "execution_count": 123,
   "metadata": {},
   "outputs": [],
   "source": [
    "# lakukan normalisasi data \n",
    "ss = StandardScaler()\n",
    "data_reg = ss.fit_transform(data_reg)"
   ]
  },
  {
   "cell_type": "code",
   "execution_count": 127,
   "metadata": {},
   "outputs": [],
   "source": [
    "# pisahkan dataset menjadi feature dan label\n",
    "x = data_reg[:, :-1]\n",
    "y = data_reg[:, 1]\n",
    "# print(x.head())"
   ]
  },
  {
   "cell_type": "code",
   "execution_count": 128,
   "metadata": {},
   "outputs": [],
   "source": [
    "# split/pecah dataset menjadi training dan testing dengan \n",
    "# ukuran test sebanyak 10% dan training sebanyak 90%\n",
    "x_train, x_test, y_train, y_test = train_test_split(\n",
    "    x, y, \n",
    "    test_size=0.1, \n",
    "    random_state=46,\n",
    ")"
   ]
  },
  {
   "cell_type": "code",
   "execution_count": 129,
   "metadata": {},
   "outputs": [
    {
     "name": "stdout",
     "output_type": "stream",
     "text": [
      "x_train ==>  (135, 5)\n",
      "y_train ==>  (135,)\n",
      "x_test ==>  (15, 5)\n",
      "y_test ==>  (15,)\n"
     ]
    }
   ],
   "source": [
    "# lihat ukuran setiap pecahannya \n",
    "print('x_train ==> ', x_train.shape)\n",
    "print('y_train ==> ', y_train.shape)\n",
    "print('x_test ==> ', x_test.shape)\n",
    "print('y_test ==> ', y_test.shape)"
   ]
  },
  {
   "cell_type": "code",
   "execution_count": 130,
   "metadata": {},
   "outputs": [
    {
     "data": {
      "text/plain": [
       "LinearRegression(copy_X=True, fit_intercept=True, n_jobs=None,\n",
       "         normalize=False)"
      ]
     },
     "execution_count": 130,
     "metadata": {},
     "output_type": "execute_result"
    }
   ],
   "source": [
    "model_reg = LinearRegression()\n",
    "model_reg.fit(x_train, y_train)"
   ]
  },
  {
   "cell_type": "code",
   "execution_count": 132,
   "metadata": {},
   "outputs": [
    {
     "name": "stdout",
     "output_type": "stream",
     "text": [
      "mean-squared-error \n",
      " 2.5431583927309387e-29\n",
      "mean-absolute-error \n",
      " 4.140206695997979e-14\n",
      "r2_score \n",
      "  1.0\n"
     ]
    }
   ],
   "source": [
    "y_pred = model_reg.predict(x_test)\n",
    "mse = metrics.mean_squared_error(y_test, y_pred) * 100\n",
    "mae = metrics.mean_absolute_error(y_test, y_pred) * 100 \n",
    "r2_score = metrics.r2_score(y_test, y_pred)\n",
    "print(\"mean-squared-error \\n\", mse)\n",
    "print(\"mean-absolute-error \\n\", mae)\n",
    "print('r2_score \\n ', r2_score)"
   ]
  },
  {
   "cell_type": "code",
   "execution_count": null,
   "metadata": {},
   "outputs": [],
   "source": []
  }
 ],
 "metadata": {
  "kernelspec": {
   "display_name": "Python [conda env:gpu] *",
   "language": "python",
   "name": "conda-env-gpu-py"
  },
  "language_info": {
   "codemirror_mode": {
    "name": "ipython",
    "version": 3
   },
   "file_extension": ".py",
   "mimetype": "text/x-python",
   "name": "python",
   "nbconvert_exporter": "python",
   "pygments_lexer": "ipython3",
   "version": "3.6.5"
  }
 },
 "nbformat": 4,
 "nbformat_minor": 2
}
